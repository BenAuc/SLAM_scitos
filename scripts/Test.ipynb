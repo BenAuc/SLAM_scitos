{
 "cells": [
  {
   "cell_type": "code",
   "execution_count": 1,
   "id": "1093d3dd",
   "metadata": {},
   "outputs": [],
   "source": [
    "import Localization\n",
    "from Localization import KalmanFilter\n",
    "from Localization import NoiseModel\n",
    "from Localization import MotionModel"
   ]
  },
  {
   "cell_type": "code",
   "execution_count": 3,
   "id": "aa2e4a85",
   "metadata": {},
   "outputs": [],
   "source": [
    "import numpy as np"
   ]
  },
  {
   "cell_type": "code",
   "execution_count": 2,
   "id": "67d288a4",
   "metadata": {},
   "outputs": [
    {
     "name": "stdout",
     "output_type": "stream",
     "text": [
      "sensor covariance matrix :  [1, 1, 1]\n"
     ]
    }
   ],
   "source": [
    "filt = KalmanFilter(0.05, [0,0,0])"
   ]
  },
  {
   "cell_type": "code",
   "execution_count": 5,
   "id": "0fdf69a3",
   "metadata": {},
   "outputs": [
    {
     "data": {
      "text/plain": [
       "array([[ 0,  1,  2,  3],\n",
       "       [ 4,  5,  6,  7],\n",
       "       [ 8,  9, 10, 11]])"
      ]
     },
     "execution_count": 5,
     "metadata": {},
     "output_type": "execute_result"
    }
   ],
   "source": [
    "map_features = np.arange(12).reshape((3,4))\n",
    "map_features"
   ]
  },
  {
   "cell_type": "code",
   "execution_count": null,
   "id": "3343917e",
   "metadata": {},
   "outputs": [],
   "source": []
  }
 ],
 "metadata": {
  "kernelspec": {
   "display_name": "Python 3 (ipykernel)",
   "language": "python",
   "name": "python3"
  },
  "language_info": {
   "codemirror_mode": {
    "name": "ipython",
    "version": 3
   },
   "file_extension": ".py",
   "mimetype": "text/x-python",
   "name": "python",
   "nbconvert_exporter": "python",
   "pygments_lexer": "ipython3",
   "version": "3.8.10"
  }
 },
 "nbformat": 4,
 "nbformat_minor": 5
}
