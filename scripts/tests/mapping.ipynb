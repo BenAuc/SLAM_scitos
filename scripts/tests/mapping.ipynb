{
 "cells": [
  {
   "cell_type": "code",
   "execution_count": 28,
   "metadata": {},
   "outputs": [],
   "source": [
    "import numpy as np\n",
    "from nav_msgs.msg import MapMetaData\n",
    "from bresenham import bresenham"
   ]
  },
  {
   "cell_type": "code",
   "execution_count": 25,
   "metadata": {},
   "outputs": [],
   "source": [
    "def cellUpdate(self, x, y, logodds_update):\n",
    "\n",
    "    # print(\"x in grid = {}\".format(x))\n",
    "    # print(\"y in grid = {}\".format(y))\n",
    "    # print(\"shape of map = {}\".format(self.prob_map.shape))\n",
    "\n",
    "    # if the cell had not been observed so far we set the prior on it to 0.5\n",
    "    # print(\"current probability is: {}\".format(self.prob_map[y][x]))\n",
    "    if self.prob_map[y][x] == -1:\n",
    "        self.prob_map[y][x] = 0.5\n",
    "\n",
    "    # perform the update\n",
    "    prior_belief = self.logodds_map[y][x]\n",
    "    posterior_belief = prior_belief + logodds_update\n",
    "    self.logodds_map[y][x] = posterior_belief\n",
    "\n",
    "    # return to probabilistic representation\n",
    "    self.prob_map[y][x] = 1 - 1 / (1 + np.exp(posterior_belief))"
   ]
  },
  {
   "cell_type": "code",
   "execution_count": 3,
   "metadata": {},
   "outputs": [],
   "source": [
    "    r_prob = 0.8\n",
    "    below_r_prob = 0.2"
   ]
  },
  {
   "cell_type": "code",
   "execution_count": null,
   "metadata": {},
   "outputs": [],
   "source": []
  },
  {
   "cell_type": "code",
   "execution_count": 4,
   "metadata": {},
   "outputs": [],
   "source": [
    "odds_r_prob = np.log(r_prob / (1 - r_prob))\n",
    "odds_below_r_prob = np.log(below_r_prob / (1 - below_r_prob))"
   ]
  },
  {
   "cell_type": "code",
   "execution_count": 5,
   "metadata": {},
   "outputs": [
    {
     "name": "stdout",
     "output_type": "stream",
     "text": [
      "1.3862943611198908 \n",
      " -1.3862943611198906\n"
     ]
    }
   ],
   "source": [
    "print(odds_r_prob,\"\\n\",odds_below_r_prob)"
   ]
  },
  {
   "cell_type": "code",
   "execution_count": 6,
   "metadata": {},
   "outputs": [],
   "source": [
    "probability = lambda x: 1 - 1 /(1 + np.e**x)\n",
    "\n"
   ]
  },
  {
   "cell_type": "code",
   "execution_count": 8,
   "metadata": {},
   "outputs": [
    {
     "data": {
      "text/plain": [
       "array([[1, 2, 3, 4, 5],\n",
       "       [2, 3, 4, 5, 6],\n",
       "       [3, 4, 5, 6, 7]])"
      ]
     },
     "execution_count": 8,
     "metadata": {},
     "output_type": "execute_result"
    }
   ],
   "source": [
    "# logodds_grid = np.random.rand(3,5)\n",
    "logodds_grid = np.array([[1,2,3,4,5],\n",
    "                         [2,3,4,5,6],\n",
    "                         [3,4,5,6,7]])\n",
    "logodds_grid"
   ]
  },
  {
   "cell_type": "code",
   "execution_count": 11,
   "metadata": {},
   "outputs": [
    {
     "data": {
      "text/plain": [
       "array([1, 2, 3, 4, 5, 2, 3, 4, 5, 6, 3, 4, 5, 6, 7])"
      ]
     },
     "execution_count": 11,
     "metadata": {},
     "output_type": "execute_result"
    }
   ],
   "source": [
    "logodds_grid.flatten()"
   ]
  },
  {
   "cell_type": "code",
   "execution_count": 30,
   "metadata": {},
   "outputs": [
    {
     "data": {
      "text/plain": [
       "[(1, 1), (2, 0), (2, -1), (3, -2), (4, -3), (4, -4), (5, -5)]"
      ]
     },
     "execution_count": 30,
     "metadata": {},
     "output_type": "execute_result"
    }
   ],
   "source": [
    "bresenham(1,1,5,-5)"
   ]
  },
  {
   "cell_type": "code",
   "execution_count": null,
   "metadata": {},
   "outputs": [],
   "source": [
    "non_occupied_cells = bresenham(robot_pos_grid[0], robot_pos_grid[1], target_minus_tau[0], target_minus_tau[1])\n",
    "# get rid of the first cell in the list because it is also listed as an occupied cell\n",
    "non_occupied_cells.pop(-1)\n",
    "# print(\"current set of non-occupied cells = {}\".format(non_occupied_cells))\n",
    "occupied_cells = bresenham(target_minus_tau[0], target_minus_tau[1], target_plus_tau[0], target_plus_tau[1])\n",
    "# print(\"current set of occupied cells = {}\".format(occupied_cells))\n",
    "\n",
    "# process list of non-occupied cells\n",
    "for cell in non_occupied_cells:\n",
    "    # print(\"current cell = {}\".format(cell))\n",
    "    # first column in the array runs along y-axis\n",
    "    x = cell[0]\n",
    "    # last row in the array runs along x-axis\n",
    "    y = cell[1]\n",
    "    # y = -1 * cell[1]\n",
    "\n",
    "    self.cellUpdate(x, y, self.odds_below_r_prob)\n",
    "\n",
    "# update occupied cells\n",
    "for cell in occupied_cells:\n",
    "    # print(\"current cell = {}\".format(cell))\n",
    "    # first column in the array runs along y-axis\n",
    "    x = cell[0]\n",
    "    # last row in the array runs along x-axis\n",
    "    # y = -1 * cell[1]\n",
    "    y = cell[1]\n",
    "    self.cellUpdate(x, y, self.odds_r_prob)"
   ]
  },
  {
   "cell_type": "code",
   "execution_count": 33,
   "metadata": {},
   "outputs": [
    {
     "name": "stdout",
     "output_type": "stream",
     "text": [
      "[3, 5]\n"
     ]
    }
   ],
   "source": [
    "a = [1,2]\n",
    "b = [2,3,4]\n",
    "c = [a[0]+b[0], a[1] + b[1]]\n",
    "print(c)"
   ]
  },
  {
   "cell_type": "code",
   "execution_count": null,
   "metadata": {},
   "outputs": [],
   "source": [
    "self.robot_yaw = 1"
   ]
  },
  {
   "cell_type": "code",
   "execution_count": null,
   "metadata": {},
   "outputs": [],
   "source": [
    "T_mat = np.array([[np.cos(self.robot_yaw), -np.sin(self.robot_yaw)],\n",
    "                          [np.sin(self.robot_yaw), np.cos(self.robot_yaw)]])"
   ]
  }
 ],
 "metadata": {
  "interpreter": {
   "hash": "916dbcbb3f70747c44a77c7bcd40155683ae19c65e1c03b4aa3499c5328201f1"
  },
  "kernelspec": {
   "display_name": "Python 3.8.10 64-bit",
   "language": "python",
   "name": "python3"
  },
  "language_info": {
   "codemirror_mode": {
    "name": "ipython",
    "version": 3
   },
   "file_extension": ".py",
   "mimetype": "text/x-python",
   "name": "python",
   "nbconvert_exporter": "python",
   "pygments_lexer": "ipython3",
   "version": "3.8.10"
  },
  "orig_nbformat": 4
 },
 "nbformat": 4,
 "nbformat_minor": 2
}
